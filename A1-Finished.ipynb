{
 "cells": [
  {
   "cell_type": "markdown",
   "id": "b48b379f",
   "metadata": {
    "cell_style": "split"
   },
   "source": [
    "**Analytics Report \n",
    "By: Sai Nitin Madduri Venkata**"
   ]
  },
  {
   "cell_type": "markdown",
   "id": "4c1be4e7",
   "metadata": {},
   "source": [
    "# Problem Statement\n",
    "\n",
    "The global sportswear market is projected to grow 52% from 2021 until 2028 at a CAGR of 6.6% in forecast period, 2021-2028. \n",
    "The market is growing enormously, as people are progressively enticed by the product's capability to offer sweat-wicking & breathability and enhancement of physical movement.\n",
    "\n",
    "The rising growth of the urban population escalates  the consumption of the product due to the increasing involvement of people in fitness activities. This provides the European sports clothes company to expand their hold on this industry globally\n",
    "\n",
    "Running a supply chain across international borders is difficult. Imports, exports, shipping, and operational logistics are governed by a number of complicated international laws, trade agreements, and other legal frameworks. When exporting goods from one nation to another, you must take into account not just the environmental issues but also the time and expense involved.\n",
    "\n",
    "It's crucial to take your time while considering global expansion. You must create a strong supply chain plan if you want to apply improvements to your supply chain in the future. For instance, you can encounter difficulties stocking shelves as quickly as you would want if your rivals obtain their products from a nearby place.\n",
    "\n",
    "It isn't possible to create a supply chain strategy that fits all situations. Depending on where you're expanding, you need to develop them accordingly.\n",
    "\n",
    "## Problem 1\n",
    "\n",
    "**Segmentation by product type and end user**\n",
    "\n",
    "Segmentation by product type is important for sportswear companies expanding globally because it allows them to effectively target their offerings to the specific needs and preferences of different markets.\n",
    "\n",
    "Cultural differences: Different countries and regions have unique cultural preferences when it comes to sportswear. For example, running shoes may be more popular in the United States, while soccer cleats may be in higher demand in Europe. By segmenting their products by type, sportswear companies can better understand the cultural differences and preferences of each market and tailor their offerings accordingly.\n",
    "\n",
    "Market demand: Different markets may have varying levels of demand for certain types of sportswear products. By segmenting their offerings by product type, companies can more easily identify which products are in higher demand in each market and adjust their product mix accordingly.\n",
    "\n",
    "Competitive landscape: Different regions may have different competitors with unique strengths and weaknesses. By segmenting their products by type, sportswear companies can more effectively differentiate themselves from their competitors by highlighting their strengths in specific product categories.\n",
    "\n",
    "Brand positioning: Sportswear companies often have a specific brand image or positioning that they want to convey to consumers. By segmenting their products by type, companies can more effectively position their brand and tailor their messaging to specific product categories.\n",
    "\n",
    "In conclusion, segmentation by product type is an important strategy for sportswear companies expanding globally because it allows them to better understand the unique needs and preferences of different markets and tailor their offerings and messaging accordingly.\n",
    "\n",
    "## Problem 2\n",
    "\n",
    "**Ditribution Channel**\n",
    "\n",
    "Segmentation by end user is an important consideration for sportswear companies when expanding globally. This is because different regions and cultures have unique preferences and needs when it comes to sportswear, and targeting a broad market with a one-size-fits-all approach may not be effective.\n",
    "\n",
    "By segmenting the market by end user, companies can tailor their products and marketing strategies to meet the specific needs and preferences of different groups. For example, a company may focus on developing products and marketing campaigns targeted towards women in the Middle East who prefer modest clothing, or towards athletes in South America who prioritize lightweight and breathable fabrics.\n",
    "\n",
    "This can help companies differentiate themselves from their competitors, build stronger relationships with their customers, and ultimately increase their market share and profitability.\n",
    "\n",
    "Furthermore, by segmenting the market, companies can identify and target specific niches that may be underserved or overlooked by their competitors. For example, a company may identify a growing market for sustainable sportswear among environmentally-conscious consumers, and develop products and marketing campaigns targeted specifically towards this group.\n",
    "\n",
    "Overall, segmentation by end user is an important consideration for sportswear companies when expanding globally, as it can help them better understand and meet the unique needs and preferences of different groups, differentiate themselves from their competitors, and ultimately increase their market share and profitability.\n",
    "\n",
    "## Problem 3\n",
    "\n",
    "**Competitive Market environment**\n",
    "\n",
    "Competitive market environment: The sportswear industry is highly competitive, and the success of a company depends on its ability to compete effectively in the global marketplace. A competitive market environment can help companies to improve their products, pricing, and marketing strategies to stay ahead of the competition. By analyzing the competitive landscape, a company can identify opportunities and threats, as well as potential competitors, and develop effective strategies to address them.\n",
    "\n",
    "Distribution channels: Distribution channels are crucial in the global expansion of a sportswear company. The choice of distribution channels will depend on the target market, product type, and local regulations. A well-planned distribution strategy can help the company to reach its target market efficiently and effectively, and reduce the costs associated with logistics and warehousing. An effective distribution strategy can also help the company to establish a strong brand presence in the new market.\n",
    "\n",
    "Market research: Before expanding globally, a company needs to conduct extensive market research to understand the needs, preferences, and behaviors of the target market. This research can help the company to tailor its products and marketing strategies to the local market, and identify potential distribution channels that will be most effective.\n",
    "\n",
    "Local partnerships: To succeed in a new market, it's essential for a sportswear company to establish local partnerships with distributors, retailers, and other businesses. These partnerships can help the company to navigate local regulations and cultural differences, and build a strong brand presence in the market.\n",
    "\n",
    "\n",
    "# Results\n",
    "\n",
    "The following countries are recommended for expansion based on the analysis:\n",
    "\n",
    "## **Opening Retail stores in Australia:**\n",
    "\n",
    "The retails store segment is estimated to lead the market due to the rising number of popular sportswear brands across the globe, increasingly broadening the number of physical stores. Additionally, a large number of consumers possessing the desire to avoid misfits, delays in delivery and complications regarding the return and replacement would increase the usage of retail stores. \n",
    "\n",
    "According to our analysis of sales and profits, all retail stores in the eight states of Australia for categories like accessories, juniors, men, shoes, and women are highly profitable. Over 60% on an average in each of targeted category.\n",
    "\n",
    "It would be wise for us to start selling our goods in these eight states so that we can get on the market. We will eventually be able to spread out into further states in this nation. Also, they have a dense population, which makes it simpler and more economical to reach more potential clients. We can thus expand into these areas in the hopes of establishing a solid clientele that will support our growth and raise our market share.\n",
    "\n",
    "\n",
    "# importing libraries\n",
    "import pandas as pd\n",
    "import matplotlib.pyplot as plt\n",
    "import seaborn as sns\n",
    "import numpy as np\n",
    "\n",
    "\n",
    "#loading the excel file with multiple sheets and merging them\n",
    "file = './A1//AustraliaChains.xlsx/AustraliaChains.xlsx'\n",
    "sale_report = pd.read_excel(file,sheet_name= [0,1,2])\n",
    "\n",
    "combine=sale_report[0].merge(sale_report[1], left_on='Postcode',right_on='Postcode',how='left')\n",
    "\n",
    "combine=combine.merge(sale_report[2],left_on='Postcode',right_on='Postcode',how='left')\n",
    "\n",
    "combine.columns = [c.replace(' ', '_').lower() for c in combine.columns]\n",
    "\n",
    "#choosing required categories and grouping data by chain and category\n",
    "group = combine.query('category == (\"Accessories\", \"Equipement\", \"Mens\", \"Juniors\", \"Shoes\", \"Womens\")')\\\n",
    ".groupby(['category','state','chain'])\n",
    "\n",
    "#calculating the sum of each column\n",
    "sales = group['total_units','sale_price','cost_price'].sum()\n",
    "\n",
    "#adding a new column profit and computing\n",
    "sales['profit'] = sales['sale_price'] - sales['cost_price']\n",
    "sales['profit$_%'] = (sales['profit']*100)/ sales['cost_price']\n",
    "\n",
    "#resetting index \n",
    "sales.reset_index(inplace = True)\n",
    "\n",
    "\n",
    "#pivoting the dataframe \n",
    "sale_pivot = sales.pivot_table(index='category', columns='state', values='profit$_%')\n",
    "\n",
    "#plotting a bar graph with statewise profit\n",
    "sale_pivot.plot(kind='bar',figsize=(15,10), xlabel = 'CATEGORY', ylabel = 'PROFIT %' , title = 'Profit % per category in each state in Australia')\n",
    "plt.show()\n",
    "\n",
    "## **Positioning in E-commerce stores of United Arab Emirates:**\n",
    "\n",
    "E-commerce stores are gaining traction as most people nowadays are busy working long hours and find online shopping convenient for saving their spare time. The distribution for adidas and nike in the marketplace of UAE are displayed below.\n",
    "\n",
    "Each brands loss percentage in each online store is also given below. This shows that the customer aquisition cost is high and the market share holders are burning a lot of money to be the majority share holders. \n",
    "\n",
    "Since the market is very crowded in Noon with all the brands competing, it would be ideal for the euopean brand to set their shop up at the lesser competitve online store such as Namshi and SIVVI and focus on marketing in these stores more where the competition is less and also the customers are ready to pay the premium price to get quality products as compared to Noon.  \n",
    "\n",
    "# Code for representation of market share by each selller\n",
    "file = './A1/noon.csv'\n",
    "\n",
    "report = pd.read_csv(file)\n",
    "explode = (0.1, 0.1, 0.1)\n",
    "pie = report.groupby(['sold_by'])['sold_by'].count().plot(\n",
    "                        kind='pie',\n",
    "                        autopct='%1.0f%%', \n",
    "                        explode = explode,\n",
    "                        label = 'E-commerce distribution')\n",
    "plt.show()\n",
    "\n",
    "\n",
    "# importing libraries\n",
    "import pandas as pd\n",
    "import matplotlib.pyplot as plt\n",
    "import seaborn as sns\n",
    "import numpy as np\n",
    "\n",
    "file = './A1/noon.csv'\n",
    "\n",
    "sale_report = pd.read_csv(file)\n",
    "\n",
    "pd.set_option('display.max_rows', 500)\n",
    "pd.set_option('display.max_columns', 500)\n",
    "pd.set_option('display.width', 1000)\n",
    "\n",
    "#group = sale_report.groupby(['sold_by','brand'])\n",
    "group = sale_report.groupby(['sold_by','brand'])\n",
    "Total = group.sum()\n",
    "\n",
    "#calculating the loss% after selling it at discounts\n",
    "Total['loss%'] = Total['saving']*100 / Total['current_price']\n",
    "Total.sort_values(by = 'brand')\n",
    "\n",
    "#resetting the index to pivot the table\n",
    "Total_pivot = Total.reset_index(inplace=True)\n",
    "\n",
    "Total_pivot = Total.pivot(index='sold_by',columns='brand',values='loss%').fillna(0)\n",
    "\n",
    "#Loss% for each brand in E-commerce space\n",
    "Total_pivot.plot(kind='barh',figsize=(10,10), xlabel = 'SOLD BY', ylabel = 'LOSS%' , title = 'Loss% for each brand in E-commerce space')\n",
    "plt.show()\n",
    "\n",
    "\n",
    "\n",
    "## **Potential markets to Target and set up manufacturing plants:**\n",
    "\n",
    "North America is leading the sportswear market, exhibiting a size of 72 billion USD in 2020. The thriving growth of the recreational industry in this region resulted in escalating the utilization of the product. \n",
    "South Amerixa is also projected to display considerable growth due to the gradual decline of the unemplyement rate, surging the purchasing power of many people. \n",
    "Running a supply chain across international borders is difficult. Imports, exports, shipping, and operational logistics are governed by a number of complicated international laws, trade agreements, and other legal frameworks.\n",
    "When exporting goods from one country to another, you must take time, cost, and environmental considerations into account.\n",
    "Given the data of people from USA and Puerto Rico ordering from around the globe, setting up plants in South Asia,Africa and the Caribbean would benefit the company. The rent index is relatively low and these regions have abundant natural resources,large labour pool and low GDP."
   ]
  },
  {
   "cell_type": "code",
   "execution_count": 1,
   "id": "04b56376",
   "metadata": {
    "code_folding": [
     0
    ]
   },
   "outputs": [
    {
     "ename": "FileNotFoundError",
     "evalue": "[Errno 2] No such file or directory: './A1/DataCoSupplyChainDataset.csv/DataCoSupplyChainDataset.csv'",
     "output_type": "error",
     "traceback": [
      "\u001b[1;31m---------------------------------------------------------------------------\u001b[0m",
      "\u001b[1;31mFileNotFoundError\u001b[0m                         Traceback (most recent call last)",
      "\u001b[1;32m~\\AppData\\Local\\Temp\\ipykernel_14464\\4292691474.py\u001b[0m in \u001b[0;36m<module>\u001b[1;34m\u001b[0m\n\u001b[0;32m      9\u001b[0m \u001b[0mfile\u001b[0m \u001b[1;33m=\u001b[0m \u001b[1;34m'./A1/DataCoSupplyChainDataset.csv/DataCoSupplyChainDataset.csv'\u001b[0m\u001b[1;33m\u001b[0m\u001b[1;33m\u001b[0m\u001b[0m\n\u001b[0;32m     10\u001b[0m \u001b[1;33m\u001b[0m\u001b[0m\n\u001b[1;32m---> 11\u001b[1;33m \u001b[0mdata_report\u001b[0m \u001b[1;33m=\u001b[0m \u001b[0mpd\u001b[0m\u001b[1;33m.\u001b[0m\u001b[0mread_csv\u001b[0m\u001b[1;33m(\u001b[0m\u001b[0mfile\u001b[0m\u001b[1;33m,\u001b[0m\u001b[0mencoding\u001b[0m\u001b[1;33m=\u001b[0m\u001b[1;34m'latin1'\u001b[0m\u001b[1;33m)\u001b[0m\u001b[1;33m\u001b[0m\u001b[1;33m\u001b[0m\u001b[0m\n\u001b[0m\u001b[0;32m     12\u001b[0m \u001b[0mdata_report\u001b[0m\u001b[1;33m.\u001b[0m\u001b[0mcolumns\u001b[0m \u001b[1;33m=\u001b[0m \u001b[1;33m[\u001b[0m\u001b[0mc\u001b[0m\u001b[1;33m.\u001b[0m\u001b[0mreplace\u001b[0m\u001b[1;33m(\u001b[0m\u001b[1;34m' '\u001b[0m\u001b[1;33m,\u001b[0m \u001b[1;34m'_'\u001b[0m\u001b[1;33m)\u001b[0m\u001b[1;33m.\u001b[0m\u001b[0mlower\u001b[0m\u001b[1;33m(\u001b[0m\u001b[1;33m)\u001b[0m \u001b[1;32mfor\u001b[0m \u001b[0mc\u001b[0m \u001b[1;32min\u001b[0m \u001b[0mdata_report\u001b[0m\u001b[1;33m.\u001b[0m\u001b[0mcolumns\u001b[0m\u001b[1;33m]\u001b[0m\u001b[1;33m\u001b[0m\u001b[1;33m\u001b[0m\u001b[0m\n\u001b[0;32m     13\u001b[0m \u001b[0mdata_report\u001b[0m\u001b[1;33m[\u001b[0m\u001b[1;34m'customer_country'\u001b[0m\u001b[1;33m]\u001b[0m\u001b[1;33m.\u001b[0m\u001b[0mreplace\u001b[0m\u001b[1;33m(\u001b[0m\u001b[1;34m'EE. UU.'\u001b[0m\u001b[1;33m,\u001b[0m \u001b[1;34m'USA'\u001b[0m\u001b[1;33m,\u001b[0m\u001b[0minplace\u001b[0m\u001b[1;33m=\u001b[0m\u001b[1;32mTrue\u001b[0m\u001b[1;33m)\u001b[0m\u001b[1;33m\u001b[0m\u001b[1;33m\u001b[0m\u001b[0m\n",
      "\u001b[1;32m~\\anaconda3\\lib\\site-packages\\pandas\\util\\_decorators.py\u001b[0m in \u001b[0;36mwrapper\u001b[1;34m(*args, **kwargs)\u001b[0m\n\u001b[0;32m    309\u001b[0m                     \u001b[0mstacklevel\u001b[0m\u001b[1;33m=\u001b[0m\u001b[0mstacklevel\u001b[0m\u001b[1;33m,\u001b[0m\u001b[1;33m\u001b[0m\u001b[1;33m\u001b[0m\u001b[0m\n\u001b[0;32m    310\u001b[0m                 )\n\u001b[1;32m--> 311\u001b[1;33m             \u001b[1;32mreturn\u001b[0m \u001b[0mfunc\u001b[0m\u001b[1;33m(\u001b[0m\u001b[1;33m*\u001b[0m\u001b[0margs\u001b[0m\u001b[1;33m,\u001b[0m \u001b[1;33m**\u001b[0m\u001b[0mkwargs\u001b[0m\u001b[1;33m)\u001b[0m\u001b[1;33m\u001b[0m\u001b[1;33m\u001b[0m\u001b[0m\n\u001b[0m\u001b[0;32m    312\u001b[0m \u001b[1;33m\u001b[0m\u001b[0m\n\u001b[0;32m    313\u001b[0m         \u001b[1;32mreturn\u001b[0m \u001b[0mwrapper\u001b[0m\u001b[1;33m\u001b[0m\u001b[1;33m\u001b[0m\u001b[0m\n",
      "\u001b[1;32m~\\anaconda3\\lib\\site-packages\\pandas\\io\\parsers\\readers.py\u001b[0m in \u001b[0;36mread_csv\u001b[1;34m(filepath_or_buffer, sep, delimiter, header, names, index_col, usecols, squeeze, prefix, mangle_dupe_cols, dtype, engine, converters, true_values, false_values, skipinitialspace, skiprows, skipfooter, nrows, na_values, keep_default_na, na_filter, verbose, skip_blank_lines, parse_dates, infer_datetime_format, keep_date_col, date_parser, dayfirst, cache_dates, iterator, chunksize, compression, thousands, decimal, lineterminator, quotechar, quoting, doublequote, escapechar, comment, encoding, encoding_errors, dialect, error_bad_lines, warn_bad_lines, on_bad_lines, delim_whitespace, low_memory, memory_map, float_precision, storage_options)\u001b[0m\n\u001b[0;32m    676\u001b[0m     \u001b[0mkwds\u001b[0m\u001b[1;33m.\u001b[0m\u001b[0mupdate\u001b[0m\u001b[1;33m(\u001b[0m\u001b[0mkwds_defaults\u001b[0m\u001b[1;33m)\u001b[0m\u001b[1;33m\u001b[0m\u001b[1;33m\u001b[0m\u001b[0m\n\u001b[0;32m    677\u001b[0m \u001b[1;33m\u001b[0m\u001b[0m\n\u001b[1;32m--> 678\u001b[1;33m     \u001b[1;32mreturn\u001b[0m \u001b[0m_read\u001b[0m\u001b[1;33m(\u001b[0m\u001b[0mfilepath_or_buffer\u001b[0m\u001b[1;33m,\u001b[0m \u001b[0mkwds\u001b[0m\u001b[1;33m)\u001b[0m\u001b[1;33m\u001b[0m\u001b[1;33m\u001b[0m\u001b[0m\n\u001b[0m\u001b[0;32m    679\u001b[0m \u001b[1;33m\u001b[0m\u001b[0m\n\u001b[0;32m    680\u001b[0m \u001b[1;33m\u001b[0m\u001b[0m\n",
      "\u001b[1;32m~\\anaconda3\\lib\\site-packages\\pandas\\io\\parsers\\readers.py\u001b[0m in \u001b[0;36m_read\u001b[1;34m(filepath_or_buffer, kwds)\u001b[0m\n\u001b[0;32m    573\u001b[0m \u001b[1;33m\u001b[0m\u001b[0m\n\u001b[0;32m    574\u001b[0m     \u001b[1;31m# Create the parser.\u001b[0m\u001b[1;33m\u001b[0m\u001b[1;33m\u001b[0m\u001b[0m\n\u001b[1;32m--> 575\u001b[1;33m     \u001b[0mparser\u001b[0m \u001b[1;33m=\u001b[0m \u001b[0mTextFileReader\u001b[0m\u001b[1;33m(\u001b[0m\u001b[0mfilepath_or_buffer\u001b[0m\u001b[1;33m,\u001b[0m \u001b[1;33m**\u001b[0m\u001b[0mkwds\u001b[0m\u001b[1;33m)\u001b[0m\u001b[1;33m\u001b[0m\u001b[1;33m\u001b[0m\u001b[0m\n\u001b[0m\u001b[0;32m    576\u001b[0m \u001b[1;33m\u001b[0m\u001b[0m\n\u001b[0;32m    577\u001b[0m     \u001b[1;32mif\u001b[0m \u001b[0mchunksize\u001b[0m \u001b[1;32mor\u001b[0m \u001b[0miterator\u001b[0m\u001b[1;33m:\u001b[0m\u001b[1;33m\u001b[0m\u001b[1;33m\u001b[0m\u001b[0m\n",
      "\u001b[1;32m~\\anaconda3\\lib\\site-packages\\pandas\\io\\parsers\\readers.py\u001b[0m in \u001b[0;36m__init__\u001b[1;34m(self, f, engine, **kwds)\u001b[0m\n\u001b[0;32m    930\u001b[0m \u001b[1;33m\u001b[0m\u001b[0m\n\u001b[0;32m    931\u001b[0m         \u001b[0mself\u001b[0m\u001b[1;33m.\u001b[0m\u001b[0mhandles\u001b[0m\u001b[1;33m:\u001b[0m \u001b[0mIOHandles\u001b[0m \u001b[1;33m|\u001b[0m \u001b[1;32mNone\u001b[0m \u001b[1;33m=\u001b[0m \u001b[1;32mNone\u001b[0m\u001b[1;33m\u001b[0m\u001b[1;33m\u001b[0m\u001b[0m\n\u001b[1;32m--> 932\u001b[1;33m         \u001b[0mself\u001b[0m\u001b[1;33m.\u001b[0m\u001b[0m_engine\u001b[0m \u001b[1;33m=\u001b[0m \u001b[0mself\u001b[0m\u001b[1;33m.\u001b[0m\u001b[0m_make_engine\u001b[0m\u001b[1;33m(\u001b[0m\u001b[0mf\u001b[0m\u001b[1;33m,\u001b[0m \u001b[0mself\u001b[0m\u001b[1;33m.\u001b[0m\u001b[0mengine\u001b[0m\u001b[1;33m)\u001b[0m\u001b[1;33m\u001b[0m\u001b[1;33m\u001b[0m\u001b[0m\n\u001b[0m\u001b[0;32m    933\u001b[0m \u001b[1;33m\u001b[0m\u001b[0m\n\u001b[0;32m    934\u001b[0m     \u001b[1;32mdef\u001b[0m \u001b[0mclose\u001b[0m\u001b[1;33m(\u001b[0m\u001b[0mself\u001b[0m\u001b[1;33m)\u001b[0m\u001b[1;33m:\u001b[0m\u001b[1;33m\u001b[0m\u001b[1;33m\u001b[0m\u001b[0m\n",
      "\u001b[1;32m~\\anaconda3\\lib\\site-packages\\pandas\\io\\parsers\\readers.py\u001b[0m in \u001b[0;36m_make_engine\u001b[1;34m(self, f, engine)\u001b[0m\n\u001b[0;32m   1214\u001b[0m             \u001b[1;31m# \"Union[str, PathLike[str], ReadCsvBuffer[bytes], ReadCsvBuffer[str]]\"\u001b[0m\u001b[1;33m\u001b[0m\u001b[1;33m\u001b[0m\u001b[0m\n\u001b[0;32m   1215\u001b[0m             \u001b[1;31m# , \"str\", \"bool\", \"Any\", \"Any\", \"Any\", \"Any\", \"Any\"\u001b[0m\u001b[1;33m\u001b[0m\u001b[1;33m\u001b[0m\u001b[0m\n\u001b[1;32m-> 1216\u001b[1;33m             self.handles = get_handle(  # type: ignore[call-overload]\n\u001b[0m\u001b[0;32m   1217\u001b[0m                 \u001b[0mf\u001b[0m\u001b[1;33m,\u001b[0m\u001b[1;33m\u001b[0m\u001b[1;33m\u001b[0m\u001b[0m\n\u001b[0;32m   1218\u001b[0m                 \u001b[0mmode\u001b[0m\u001b[1;33m,\u001b[0m\u001b[1;33m\u001b[0m\u001b[1;33m\u001b[0m\u001b[0m\n",
      "\u001b[1;32m~\\anaconda3\\lib\\site-packages\\pandas\\io\\common.py\u001b[0m in \u001b[0;36mget_handle\u001b[1;34m(path_or_buf, mode, encoding, compression, memory_map, is_text, errors, storage_options)\u001b[0m\n\u001b[0;32m    784\u001b[0m         \u001b[1;32mif\u001b[0m \u001b[0mioargs\u001b[0m\u001b[1;33m.\u001b[0m\u001b[0mencoding\u001b[0m \u001b[1;32mand\u001b[0m \u001b[1;34m\"b\"\u001b[0m \u001b[1;32mnot\u001b[0m \u001b[1;32min\u001b[0m \u001b[0mioargs\u001b[0m\u001b[1;33m.\u001b[0m\u001b[0mmode\u001b[0m\u001b[1;33m:\u001b[0m\u001b[1;33m\u001b[0m\u001b[1;33m\u001b[0m\u001b[0m\n\u001b[0;32m    785\u001b[0m             \u001b[1;31m# Encoding\u001b[0m\u001b[1;33m\u001b[0m\u001b[1;33m\u001b[0m\u001b[0m\n\u001b[1;32m--> 786\u001b[1;33m             handle = open(\n\u001b[0m\u001b[0;32m    787\u001b[0m                 \u001b[0mhandle\u001b[0m\u001b[1;33m,\u001b[0m\u001b[1;33m\u001b[0m\u001b[1;33m\u001b[0m\u001b[0m\n\u001b[0;32m    788\u001b[0m                 \u001b[0mioargs\u001b[0m\u001b[1;33m.\u001b[0m\u001b[0mmode\u001b[0m\u001b[1;33m,\u001b[0m\u001b[1;33m\u001b[0m\u001b[1;33m\u001b[0m\u001b[0m\n",
      "\u001b[1;31mFileNotFoundError\u001b[0m: [Errno 2] No such file or directory: './A1/DataCoSupplyChainDataset.csv/DataCoSupplyChainDataset.csv'"
     ]
    }
   ],
   "source": [
    "# Code for calculating profit % of each region\n",
    "\n",
    "# importing libraries\n",
    "import pandas as pd\n",
    "import matplotlib.pyplot as plt\n",
    "import seaborn as sns\n",
    "import numpy as np\n",
    "\n",
    "file = './A1/DataCoSupplyChainDataset.csv/DataCoSupplyChainDataset.csv'\n",
    "\n",
    "data_report = pd.read_csv(file,encoding='latin1')\n",
    "data_report.columns = [c.replace(' ', '_').lower() for c in data_report.columns]\n",
    "data_report['customer_country'].replace('EE. UU.', 'USA',inplace=True)\n",
    "\n",
    "pd.set_option('display.max_rows', 5000)\n",
    "pd.set_option('display.max_columns', 5000)\n",
    "pd.set_option('display.width', 10000)\n",
    "\n",
    "#choosing only the required categories and then grouping them together by specific parameters\n",
    "data_report = data_report.query('category_name == (\"Accessories\", \"Women\\'s Apparel\",\"Men\\'s Footwear\",\"Women\\'s Clothing\",\"Men\\'s Clothing\",\"Children\\'s Clothing\")')\n",
    "\n",
    "sale = data_report.groupby(['customer_country','order_region','order_country'])[['order_item_total','order_profit_per_order']].sum().round(2)\n",
    "\n",
    "#renaming the column names \n",
    "sale.rename(columns={'order_item_total': 'total_sales', 'order_profit_per_order': 'profit'},inplace=True)\n",
    "\n",
    "#adding a new column and computing the profit%\n",
    "sale['profit%'] = (sale['profit']/sale['total_sales'])*100\n",
    "\n",
    "sale.reset_index(inplace=True)\n",
    "\n",
    "#choosing the top 5 profitable regions and pivoting the table to get by region \n",
    "p1=sale.pivot_table(index='order_region', columns='customer_country', values='profit%').nlargest(5, ['USA']).round(2)\n",
    "p2=sale.pivot_table(index='order_region', columns='customer_country', values='profit%').nlargest(5, ['Puerto Rico']).round(2)\n",
    "\n",
    "#resetting the index to plot the graph\n",
    "df1= p1['USA'].rename_axis('order_region').reset_index(name='profit%') \n",
    "df2 = p2['Puerto Rico'].rename_axis('order_region').reset_index(name='profit%') \n",
    "\n",
    "#plotting the percentages in a bar graph region wise and their profit percentages\n",
    "fig, (ax1,ax2) = plt.subplots(1,2,figsize=(8,8))\n",
    "\n",
    "labels=df1.order_region\n",
    "values=df1['profit%']\n",
    "ax1.pie(values,labels = labels,autopct = '%1.1f%%')\n",
    "ax1.set_title('USA Customers')\n",
    "\n",
    "labels=df2.order_region\n",
    "values=df2['profit%']\n",
    "ax2.pie(values,labels = labels,autopct = '%1.1f%%')\n",
    "ax2.set_title('Puerto Rico Customers')\n",
    "\n",
    "plt.show()"
   ]
  },
  {
   "cell_type": "markdown",
   "id": "57519edb",
   "metadata": {},
   "source": [
    "# Assumptions Made\n",
    "\n",
    "1.Financial Resources to support the expansion\\\n",
    "2.Meeting all Legal and regulatory compliance to expand\\\n",
    "3.Supply Chain and logistics will be efficient and cost effective\\\n",
    "4.Availabilty of highly skilled Human resources in the target market\\\n",
    "5.Robust Technology infrastructure to support the operations including inventory management, logistics and financial operations\n"
   ]
  },
  {
   "cell_type": "markdown",
   "id": "e0a22039",
   "metadata": {},
   "source": [
    "# Limitations\n",
    "\n",
    "1.Generalizing the Market as analysis of data was challenging in some markets due to limited data\\\n",
    "2.Considering the market trends remain the same from the years of the data\\\n",
    "3.Understanding of the market size in that particular region.\\"
   ]
  },
  {
   "cell_type": "markdown",
   "id": "69e5ade9",
   "metadata": {},
   "source": [
    "# Data"
   ]
  },
  {
   "cell_type": "markdown",
   "id": "b4ab638d",
   "metadata": {},
   "source": [
    "## Dataset 1 - AustraliaChains.xlsx\n",
    "\n",
    "### **Why was this dataset used?**\n",
    "To analyze how different categories performed in the retail industries in Australia and their distribution state wise. \n",
    "\n",
    "### **For which problems was it used?**\n",
    "To understand the segmentation by product categories in retail industry and their performances."
   ]
  },
  {
   "cell_type": "markdown",
   "id": "d9dc59f3",
   "metadata": {},
   "source": [
    "###  Data source including link/code to get the data."
   ]
  },
  {
   "cell_type": "code",
   "execution_count": null,
   "id": "64e20d05",
   "metadata": {
    "code_folding": [
     0
    ]
   },
   "outputs": [],
   "source": [
    "# importing libraries\n",
    "import pandas as pd\n",
    "import matplotlib.pyplot as plt\n",
    "import seaborn as sns\n",
    "import numpy as np\n",
    "\n",
    "\n",
    "#loading the excel file with multiple sheets and merging them\n",
    "file = './A1//AustraliaChains.xlsx/AustraliaChains.xlsx'\n",
    "sale_report = pd.read_excel(file,sheet_name= [0,1,2])\n",
    "\n",
    "#merging all the sheets in the excl file to get the states\n",
    "combine=sale_report[0].merge(sale_report[1], left_on='Postcode',right_on='Postcode',how='left')\n",
    "\n",
    "combine=combine.merge(sale_report[2],left_on='Postcode',right_on='Postcode',how='left')\n",
    "\n",
    "#renaming columns\n",
    "combine.columns = [c.replace(' ', '_').lower() for c in combine.columns]\n",
    "\n",
    "#choosing required categories and grouping data by chain and category\n",
    "group = combine.query('category == (\"Accessories\", \"Equipement\", \"Mens\", \"Juniors\", \"Shoes\", \"Womens\")')\\\n",
    ".groupby(['category','state','chain'])\n",
    "\n",
    "#calculating the sum of each column\n",
    "sales = group['total_units','sale_price','cost_price'].sum()\n",
    "\n",
    "#adding a new column profit and computing\n",
    "sales['profit'] = sales['sale_price'] - sales['cost_price']\n",
    "sales['profit$_%'] = (sales['profit']*100)/ sales['cost_price']\n",
    "\n",
    "sales"
   ]
  },
  {
   "cell_type": "markdown",
   "id": "e942b88e",
   "metadata": {},
   "source": [
    "## Dataset 2 - DataCoSupplyChainDataset.csv\n",
    "\n",
    "### **Why was this dataset used?**\n",
    "This dataset was used to understand the competitive markets to enter and to understand competition based on the consumer trends of people from USA and Puerto Rico \n",
    "\n",
    "### **For which problems was it used?**\n",
    "To develop new expansion strategies, we used this dataset to analyze trends in consumer behavior in the USA and Puerto Rico, understand how economic factors affect consumer spending, and develop new marketing strategies. By doing so, we gained insights into whether the customer was ordering from the USA or Puerto Rico."
   ]
  },
  {
   "cell_type": "markdown",
   "id": "e070e052",
   "metadata": {},
   "source": [
    "###  Data source including link/code to get the data."
   ]
  },
  {
   "cell_type": "code",
   "execution_count": null,
   "id": "018bfddb",
   "metadata": {
    "code_folding": [
     0
    ]
   },
   "outputs": [],
   "source": [
    "# Code for calculating profit % of each region\n",
    "\n",
    "# importing libraries\n",
    "import pandas as pd\n",
    "import matplotlib.pyplot as plt\n",
    "import seaborn as sns\n",
    "import numpy as np\n",
    "\n",
    "file = './A1/DataCoSupplyChainDataset.csv/DataCoSupplyChainDataset.csv'\n",
    "\n",
    "data_report = pd.read_csv(file,encoding='latin1')\n",
    "data_report.columns = [c.replace(' ', '_').lower() for c in data_report.columns]\n",
    "data_report['customer_country'].replace('EE. UU.', 'USA',inplace=True)\n",
    "\n",
    "pd.set_option('display.max_rows', 5000)\n",
    "pd.set_option('display.max_columns', 5000)\n",
    "pd.set_option('display.width', 10000)\n",
    "\n",
    "#choosing only the required categories and then grouping them together by specific parameters\n",
    "data_report = data_report.query('category_name == (\"Accessories\", \"Women\\'s Apparel\",\"Men\\'s Footwear\",\"Women\\'s Clothing\",\"Men\\'s Clothing\",\"Children\\'s Clothing\")')\n",
    "\n",
    "sale = data_report.groupby(['customer_country','order_region','order_country'])[['order_item_total','order_profit_per_order']].sum().round(2)\n",
    "\n",
    "#renaming the column names \n",
    "sale.rename(columns={'order_item_total': 'total_sales', 'order_profit_per_order': 'profit'},inplace=True)\n",
    "\n",
    "#adding a new column and computing the profit%\n",
    "sale['profit%'] = (sale['profit']/sale['total_sales'])*100\n",
    "\n",
    "sale.reset_index(inplace=True)\n",
    "\n",
    "#choosing the top 5 profitable regions and pivoting the table to get by region \n",
    "p1=sale.pivot_table(index='order_region', columns='customer_country', values='profit%').nlargest(5, ['USA']).round(2)\n",
    "p2=sale.pivot_table(index='order_region', columns='customer_country', values='profit%').nlargest(5, ['Puerto Rico']).round(2)\n",
    "\n",
    "#resetting the index to plot the graph\n",
    "df1= p1['USA'].rename_axis('order_region').reset_index(name='profit%') \n",
    "df2 = p2['Puerto Rico'].rename_axis('order_region').reset_index(name='profit%') \n",
    "\n",
    "\n",
    "display(df1)\n",
    "display(df2)"
   ]
  },
  {
   "cell_type": "markdown",
   "id": "9540a486",
   "metadata": {},
   "source": [
    "##  Dataset 3 - noon.csv"
   ]
  },
  {
   "cell_type": "markdown",
   "id": "0540d260",
   "metadata": {},
   "source": [
    "### **Why was this dataset used?**\n",
    "This dataset was used to understand E-commerce marketplace of UAE and the potential it has for expanding\n",
    "\n",
    "### **For which problems was it used?**\n",
    "This dataset was used to understand the e-commerce distribution channel and how different brands were performing in the UAE space\n",
    "\n",
    "### Data source including link/code to get the data"
   ]
  },
  {
   "cell_type": "code",
   "execution_count": null,
   "id": "66cf50e0",
   "metadata": {
    "code_folding": []
   },
   "outputs": [],
   "source": [
    "\n",
    "# importing libraries\n",
    "import pandas as pd\n",
    "import matplotlib.pyplot as plt\n",
    "import seaborn as sns\n",
    "import numpy as np\n",
    "\n",
    "file = './A1/noon.csv'\n",
    "\n",
    "sale_report = pd.read_csv(file)\n",
    "\n",
    "pd.set_option('display.max_rows', 500)\n",
    "pd.set_option('display.max_columns', 500)\n",
    "pd.set_option('display.width', 1000)\n",
    "\n",
    "#group = sale_report.groupby(['sold_by','brand'])\n",
    "group = sale_report.groupby(['sold_by','brand'])\n",
    "Total = group.sum()\n",
    "\n",
    "#calculating the loss% after selling it at discounts\n",
    "Total['loss%'] = Total['saving']*100 / Total['current_price']\n",
    "Total.sort_values(by = 'brand')\n",
    "\n",
    "#resetting the index to pivot the table\n",
    "Total_pivot = Total.reset_index(inplace=True)\n",
    "\n",
    "Total_pivot = Total.pivot(index='sold_by',columns='brand',values='loss%').fillna(0)\n",
    "\n",
    "Total_pivot"
   ]
  },
  {
   "cell_type": "markdown",
   "id": "a060db78",
   "metadata": {},
   "source": [
    "# Problem Solving\n",
    "\n",
    "This section needs to guide throught the problem solving process and make it clear how the results have been derived from the data. It should also contain executable code for everything that is code based. Code cells need to be executable top-to-bottom and be well commented."
   ]
  },
  {
   "cell_type": "markdown",
   "id": "6e022bcc",
   "metadata": {},
   "source": [
    "## Problem 1\n",
    "\n",
    "**Segmentation by product type and end user** \n",
    "\n",
    "This problem was solved using the AustraliaChains dataset, where the data was grouped by category ans state wise to understand the most profitable category and also the end users. All the states were running profitably and had high margins of return."
   ]
  },
  {
   "cell_type": "markdown",
   "id": "17217842",
   "metadata": {},
   "source": [
    "## Problem 2\n",
    "\n",
    "**Distribution Plan**\n",
    "\n",
    "After analysing the retails chain outlets, the e-commerce distribution was analysed using the noon dataset was grouped by the marketplace and the brands present in that market. Majority of the brands were running at loss as they were all burning money so they could aquire the end user to order from the e-commerce market place"
   ]
  },
  {
   "cell_type": "markdown",
   "id": "8a9715ed",
   "metadata": {},
   "source": [
    "## Problem 3\n",
    "\n",
    "**Competitve market analysis**\n",
    "\n",
    "After analysing the retails chain outlets, the e-commerce distribution was analysed using the noon dataset was grouped by the marketplace and the brands present in that market. Majority of the brands were running at loss as they were all burning money so they could aquire the end user to order from the e-commerce market place"
   ]
  }
 ],
 "metadata": {
  "kernelspec": {
   "display_name": "Python 3 (ipykernel)",
   "language": "python",
   "name": "python3"
  },
  "language_info": {
   "codemirror_mode": {
    "name": "ipython",
    "version": 3
   },
   "file_extension": ".py",
   "mimetype": "text/x-python",
   "name": "python",
   "nbconvert_exporter": "python",
   "pygments_lexer": "ipython3",
   "version": "3.9.13"
  },
  "toc": {
   "base_numbering": 1,
   "nav_menu": {},
   "number_sections": true,
   "sideBar": true,
   "skip_h1_title": false,
   "title_cell": "Table of Contents",
   "title_sidebar": "Contents",
   "toc_cell": false,
   "toc_position": {},
   "toc_section_display": true,
   "toc_window_display": false
  },
  "varInspector": {
   "cols": {
    "lenName": 16,
    "lenType": 16,
    "lenVar": 40
   },
   "kernels_config": {
    "python": {
     "delete_cmd_postfix": "",
     "delete_cmd_prefix": "del ",
     "library": "var_list.py",
     "varRefreshCmd": "print(var_dic_list())"
    },
    "r": {
     "delete_cmd_postfix": ") ",
     "delete_cmd_prefix": "rm(",
     "library": "var_list.r",
     "varRefreshCmd": "cat(var_dic_list()) "
    }
   },
   "types_to_exclude": [
    "module",
    "function",
    "builtin_function_or_method",
    "instance",
    "_Feature"
   ],
   "window_display": false
  }
 },
 "nbformat": 4,
 "nbformat_minor": 5
}
