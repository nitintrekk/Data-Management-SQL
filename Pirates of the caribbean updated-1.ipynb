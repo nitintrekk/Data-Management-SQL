{
 "cells": [
  {
   "cell_type": "code",
   "execution_count": 2,
   "id": "93b79216",
   "metadata": {},
   "outputs": [
    {
     "name": "stdout",
     "output_type": "stream",
     "text": [
      "You are trapped in the brig of a pirate space ship. Suddenly, a massive expolision rocks the ship disabeling the containment field trapping you, you can hear fighting in the distance.\n",
      " You must escape. choose an option number\n",
      "Do you...\n",
      "1. Escape down the corridor?\n",
      "2. Climb down a hole made by the expolsion?\n"
     ]
    },
    {
     "ename": "KeyboardInterrupt",
     "evalue": "Interrupted by user",
     "output_type": "error",
     "traceback": [
      "\u001b[1;31m---------------------------------------------------------------------------\u001b[0m",
      "\u001b[1;31mKeyboardInterrupt\u001b[0m                         Traceback (most recent call last)",
      "\u001b[1;32m~\\AppData\\Local\\Temp\\ipykernel_11532\\2639225204.py\u001b[0m in \u001b[0;36m<module>\u001b[1;34m\u001b[0m\n\u001b[0;32m     23\u001b[0m \u001b[1;33m\u001b[0m\u001b[0m\n\u001b[0;32m     24\u001b[0m \u001b[1;33m\u001b[0m\u001b[0m\n\u001b[1;32m---> 25\u001b[1;33m \u001b[0mpath\u001b[0m \u001b[1;33m=\u001b[0m \u001b[0minput\u001b[0m\u001b[1;33m(\u001b[0m\u001b[1;34m\"> \"\u001b[0m\u001b[1;33m)\u001b[0m\u001b[1;33m\u001b[0m\u001b[1;33m\u001b[0m\u001b[0m\n\u001b[0m\u001b[0;32m     26\u001b[0m \u001b[1;33m\u001b[0m\u001b[0m\n\u001b[0;32m     27\u001b[0m \u001b[1;33m\u001b[0m\u001b[0m\n",
      "\u001b[1;32mD:\\Python\\lib\\site-packages\\ipykernel\\kernelbase.py\u001b[0m in \u001b[0;36mraw_input\u001b[1;34m(self, prompt)\u001b[0m\n\u001b[0;32m   1175\u001b[0m                 \u001b[1;34m\"raw_input was called, but this frontend does not support input requests.\"\u001b[0m\u001b[1;33m\u001b[0m\u001b[1;33m\u001b[0m\u001b[0m\n\u001b[0;32m   1176\u001b[0m             )\n\u001b[1;32m-> 1177\u001b[1;33m         return self._input_request(\n\u001b[0m\u001b[0;32m   1178\u001b[0m             \u001b[0mstr\u001b[0m\u001b[1;33m(\u001b[0m\u001b[0mprompt\u001b[0m\u001b[1;33m)\u001b[0m\u001b[1;33m,\u001b[0m\u001b[1;33m\u001b[0m\u001b[1;33m\u001b[0m\u001b[0m\n\u001b[0;32m   1179\u001b[0m             \u001b[0mself\u001b[0m\u001b[1;33m.\u001b[0m\u001b[0m_parent_ident\u001b[0m\u001b[1;33m[\u001b[0m\u001b[1;34m\"shell\"\u001b[0m\u001b[1;33m]\u001b[0m\u001b[1;33m,\u001b[0m\u001b[1;33m\u001b[0m\u001b[1;33m\u001b[0m\u001b[0m\n",
      "\u001b[1;32mD:\\Python\\lib\\site-packages\\ipykernel\\kernelbase.py\u001b[0m in \u001b[0;36m_input_request\u001b[1;34m(self, prompt, ident, parent, password)\u001b[0m\n\u001b[0;32m   1217\u001b[0m             \u001b[1;32mexcept\u001b[0m \u001b[0mKeyboardInterrupt\u001b[0m\u001b[1;33m:\u001b[0m\u001b[1;33m\u001b[0m\u001b[1;33m\u001b[0m\u001b[0m\n\u001b[0;32m   1218\u001b[0m                 \u001b[1;31m# re-raise KeyboardInterrupt, to truncate traceback\u001b[0m\u001b[1;33m\u001b[0m\u001b[1;33m\u001b[0m\u001b[0m\n\u001b[1;32m-> 1219\u001b[1;33m                 \u001b[1;32mraise\u001b[0m \u001b[0mKeyboardInterrupt\u001b[0m\u001b[1;33m(\u001b[0m\u001b[1;34m\"Interrupted by user\"\u001b[0m\u001b[1;33m)\u001b[0m \u001b[1;32mfrom\u001b[0m \u001b[1;32mNone\u001b[0m\u001b[1;33m\u001b[0m\u001b[1;33m\u001b[0m\u001b[0m\n\u001b[0m\u001b[0;32m   1220\u001b[0m             \u001b[1;32mexcept\u001b[0m \u001b[0mException\u001b[0m\u001b[1;33m:\u001b[0m\u001b[1;33m\u001b[0m\u001b[1;33m\u001b[0m\u001b[0m\n\u001b[0;32m   1221\u001b[0m                 \u001b[0mself\u001b[0m\u001b[1;33m.\u001b[0m\u001b[0mlog\u001b[0m\u001b[1;33m.\u001b[0m\u001b[0mwarning\u001b[0m\u001b[1;33m(\u001b[0m\u001b[1;34m\"Invalid Message:\"\u001b[0m\u001b[1;33m,\u001b[0m \u001b[0mexc_info\u001b[0m\u001b[1;33m=\u001b[0m\u001b[1;32mTrue\u001b[0m\u001b[1;33m)\u001b[0m\u001b[1;33m\u001b[0m\u001b[1;33m\u001b[0m\u001b[0m\n",
      "\u001b[1;31mKeyboardInterrupt\u001b[0m: Interrupted by user"
     ]
    }
   ],
   "source": [
    "\"\"\"\n",
    "Created on saturday 29 January \n",
    "Author : Sai Nitin Madduri \n",
    "\"\"\"\n",
    "\"\"\"\n",
    "A. Introduction: This game is inspired by the movie pirates of the adventure but with a modern twist. \n",
    "The game consists of 3 stages, you need to hide from the pirates and find a safe way to hijack the ship back from the pirates.\n",
    "Lets see what tactics you use to safely escape the ship and kill the pirates. \n",
    "\n",
    "B. Known bugs: None\n",
    "\"\"\"\n",
    "\n",
    "\n",
    "room = 0\n",
    "endding = \"bad\"\n",
    "key = 0\n",
    "ship = 0\n",
    "\n",
    "print (\"You are trapped in the brig of a pirate space ship. Suddenly, a massive expolision rocks the ship disabeling the containment field trapping you, you can hear fighting in the distance.\\n You must escape. choose an option number\")\n",
    "print (\"Do you...\")\n",
    "print (\"1. Escape down the corridor?\")\n",
    "print (\"2. Climb down a hole made by the expolsion?\")\n",
    "\n",
    "\n",
    "path = input(\"> \")\n",
    "\n",
    "\n",
    "if path == \"1\": # Rember the put the quotiation so it's string \"1\" not integer 1.\n",
    "    print(\"You run down the corridor, but quickly hear foot steps approaching, what do you do? choose an option number\")\n",
    "    print(\"1.Run away?\")\n",
    "    print(\"2.fight!\")\n",
    "    print(\"3.Hide!\")\n",
    "\n",
    "    path = input(\"> \")\n",
    "\n",
    "    if path == \"1\":\n",
    "        print(\"You run, but are quickly caught and killed!\")\n",
    "    elif path == \"2\":\n",
    "        print(\"You are easily overpowered by the group of pirates and killed!\")\n",
    "\n",
    "    else:\n",
    "        print(\"You hide down a small corridor, and notice a small vent. you climb down and follow crawl through a small tunnel\")\n",
    "        room = \"1\" # By setting room = '1' We can get the final scene to run when this chain ends\n",
    "\n",
    "\n",
    "else:\n",
    "    print (\"You climb down the hole, which opens to a small, cramped tunnel.\")\n",
    "    print (\"You can hear noise and fighting come from one direction, and the roar of fire from the other.\")\n",
    "    print (\"Which way?\\n 1.Head towards the fighting\\n 2.Head away from the noise.\")\n",
    "\n",
    "    path = input(\"> \")\n",
    "\n",
    "    if path == \"2\":\n",
    "        print(\"You head down towards the sound of the fire. You are quitly crawling for a new minutes, when another explosion rips the ship apart and shoots you into space!\")\n",
    "    else:\n",
    "        room = \"1\"\n",
    "\n",
    "if room == \"1\":\n",
    "    print(\"You climb down the tunnel, and eventually drop down into the ships hanger. The hanger bay is full of pirates fighting an invading alien force.\")\n",
    "    print(\"What do you do? \\n1.Hide!\\n2.Join in the fight.\\n3.Try and steal a space ship.\")\n",
    " \n",
    "    path = input(\"> \")\n",
    " \n",
    "    if path == \"2\":\n",
    "        print (\"You jump into the melee, but take a devastating blow to the head from a massive pirate.\")\n",
    "    elif path == \"1\":\n",
    "        print (\"You hide and wait for an oppertunity. Suddenly a metal orb with a blinking red light hits the wall behind you and lands by your feets.\\n1. Oh shi... \\n2. Pick it up and throw it!\")\n",
    "\n",
    "        path = input(\"> \")\n",
    "\n",
    "        if path == \"2\":\n",
    "            print(\"You pick up the ball and quickly throw it. Moments later it explodes, and you see pirates flying throught he sky! The head of an exploded pirate lands by your feet, a key card is wrapped around his neck, you take it.\")\n",
    "            ship = 1\n",
    "            key = 1\n",
    "    else: ship = 1\n",
    "\n",
    "if ship == 1:\n",
    "    print(\"Amongst all the fighting you make a dash for a near by space ship. You open the hatch and climb in, only to find the the controls locked!\\nDo you...?\")\n",
    "    print(\"1.Shout and scream!\\n2.Hack the terminal.\")\n",
    "    if key == 1:\n",
    "        print(\"3.Use the keycard you picked up.\")\n",
    "\n",
    "    path = input(\"> \")\n",
    "\n",
    "    if path == \"1\":\n",
    "        print (\"You bang the terminal with both fists in fustratation. The ship jerks, and it weapons systems come to life, launching it's nuclear payload into the small hanger.\")\n",
    "    elif path == \"2\":\n",
    "        print(\"You use you mad hacking skills to override the console, bringing the ship to life!\")\n",
    "        endding = \"good\"\n",
    "    elif path == \"3\":\n",
    "        print(\"You use the key card to unlock the console, bringing the ship to life! \")\n",
    "        endding = \"good\"\n",
    "\n",
    "\n",
    "if endding == \"good\":\n",
    "    print (\"Amongst the fighting of the hangerbay, you pull the ship out, and you escape too open space!\\n Well done!\")\n",
    "else:\n",
    "    print(\"You died.\\nTry again.\")"
   ]
  }
 ],
 "metadata": {
  "kernelspec": {
   "display_name": "Python 3 (ipykernel)",
   "language": "python",
   "name": "python3"
  },
  "language_info": {
   "codemirror_mode": {
    "name": "ipython",
    "version": 3
   },
   "file_extension": ".py",
   "mimetype": "text/x-python",
   "name": "python",
   "nbconvert_exporter": "python",
   "pygments_lexer": "ipython3",
   "version": "3.9.13"
  },
  "toc": {
   "base_numbering": 1,
   "nav_menu": {},
   "number_sections": true,
   "sideBar": true,
   "skip_h1_title": false,
   "title_cell": "Table of Contents",
   "title_sidebar": "Contents",
   "toc_cell": false,
   "toc_position": {},
   "toc_section_display": true,
   "toc_window_display": false
  },
  "varInspector": {
   "cols": {
    "lenName": 16,
    "lenType": 16,
    "lenVar": 40
   },
   "kernels_config": {
    "python": {
     "delete_cmd_postfix": "",
     "delete_cmd_prefix": "del ",
     "library": "var_list.py",
     "varRefreshCmd": "print(var_dic_list())"
    },
    "r": {
     "delete_cmd_postfix": ") ",
     "delete_cmd_prefix": "rm(",
     "library": "var_list.r",
     "varRefreshCmd": "cat(var_dic_list()) "
    }
   },
   "types_to_exclude": [
    "module",
    "function",
    "builtin_function_or_method",
    "instance",
    "_Feature"
   ],
   "window_display": false
  }
 },
 "nbformat": 4,
 "nbformat_minor": 5
}
